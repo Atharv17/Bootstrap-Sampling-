{
 "cells": [
  {
   "cell_type": "markdown",
   "metadata": {
    "colab_type": "text",
    "id": "AjzGopb_YcKR"
   },
   "source": [
    "# Application of Bootstrap samples in Random Forest"
   ]
  },
  {
   "cell_type": "code",
   "execution_count": 1,
   "metadata": {
    "colab": {},
    "colab_type": "code",
    "id": "zZSCtDI6YcKT"
   },
   "outputs": [],
   "source": [
    "import numpy as np\n",
    "from sklearn.datasets import load_boston\n",
    "from sklearn.metrics import mean_squared_error\n",
    "import random\n",
    "from sklearn.tree import DecisionTreeRegressor\n",
    "import math"
   ]
  },
  {
   "cell_type": "markdown",
   "metadata": {
    "colab_type": "text",
    "id": "h2Y1Z1DoYcKZ"
   },
   "source": [
    " <li> Load the boston house dataset </li>"
   ]
  },
  {
   "cell_type": "code",
   "execution_count": 2,
   "metadata": {
    "colab": {},
    "colab_type": "code",
    "id": "wBWRNKCDYcKb"
   },
   "outputs": [],
   "source": [
    "boston = load_boston()\n",
    "x=boston.data #independent variables\n",
    "y=boston.target #target variable"
   ]
  },
  {
   "cell_type": "code",
   "execution_count": 3,
   "metadata": {
    "colab": {},
    "colab_type": "code",
    "id": "DTbK20-mWYHU",
    "outputId": "b473b251-a104-44df-f6c3-3427184c9042"
   },
   "outputs": [
    {
     "data": {
      "text/plain": [
       "(506,)"
      ]
     },
     "execution_count": 3,
     "metadata": {},
     "output_type": "execute_result"
    }
   ],
   "source": [
    "y.shape"
   ]
  },
  {
   "cell_type": "code",
   "execution_count": 7,
   "metadata": {},
   "outputs": [],
   "source": [
    "def generate_sample(x):\n",
    "    x_60 = random.sample(range(x.shape[0]),round(x.shape[0]*0.6))\n",
    "    x_40 = random.sample(x_60,round(x.shape[0]*0.4))\n",
    "    sample_index = x_60 + x_40\n",
    "    \n",
    "    oob_index = list(set(range(x.shape[0])) - set(sample_index))\n",
    "    \n",
    "    return sample_index,oob_index"
   ]
  },
  {
   "cell_type": "code",
   "execution_count": 9,
   "metadata": {},
   "outputs": [],
   "source": [
    "## get the 30 sample data\n",
    "list_input_data=[]\n",
    "list_output_data = []\n",
    "list_input_oob_data =[]\n",
    "list_output_oob_data = []\n",
    "for i in range(0,30):\n",
    "    sample_index,oob_index= generate_sample(x)\n",
    "    list_input_data.append(x[sample_index])\n",
    "    list_output_data.append(y[sample_index]) \n",
    "    list_input_oob_data.append(x[oob_index])\n",
    "    list_output_oob_data.append(y[oob_index])\n"
   ]
  },
  {
   "cell_type": "code",
   "execution_count": 10,
   "metadata": {},
   "outputs": [],
   "source": [
    "## Trainning model on each sample \n",
    "all_selected_models = []\n",
    "for i in range(30):\n",
    "    model = DecisionTreeRegressor(max_depth=None)\n",
    "    model.fit(list_input_data[i],list_output_data[i])\n",
    "    all_selected_models.append(model)\n",
    "    "
   ]
  },
  {
   "cell_type": "code",
   "execution_count": 11,
   "metadata": {},
   "outputs": [],
   "source": [
    "list_of_y_pred = []\n",
    "for i in range(30):\n",
    "\n",
    "    y_pred = all_selected_models[i].predict(list_input_data[i])\n",
    "    list_of_y_pred.append(y_pred)"
   ]
  },
  {
   "cell_type": "code",
   "execution_count": 37,
   "metadata": {},
   "outputs": [],
   "source": [
    "## Finding mean squared error for every model \n",
    "from sklearn.metrics import mean_squared_error\n",
    "list_of_mse= []\n",
    "for i in range(30):\n",
    "    mse = mean_squared_error(list_output_data[i],list_of_y_pred[i])\n",
    "    list_of_mse.append(mse)\n"
   ]
  },
  {
   "cell_type": "code",
   "execution_count": 17,
   "metadata": {},
   "outputs": [
    {
     "name": "stdout",
     "output_type": "stream",
     "text": [
      "Mean of the MSE of all sample is 8.106870962745576e-32\n"
     ]
    }
   ],
   "source": [
    "## Mean of the MSE:\n",
    "print(\"Mean of the MSE of all sample is {}\".format(np.mean(list_of_mse)))"
   ]
  },
  {
   "cell_type": "code",
   "execution_count": 21,
   "metadata": {},
   "outputs": [],
   "source": [
    "## Finding Y_pred for oob data\n",
    "list_of_oob_y_pred = []\n",
    "for i in range(30):\n",
    "    \n",
    "    y_pred = all_selected_models[i].predict(list_input_oob_data[i])\n",
    "    list_of_oob_y_pred.append(y_pred)"
   ]
  },
  {
   "cell_type": "code",
   "execution_count": 24,
   "metadata": {},
   "outputs": [],
   "source": [
    "list_of_oob_mse= []\n",
    "for i in range(30):\n",
    "    mse_oob = mean_squared_error(list_output_oob_data[i],list_of_oob_y_pred[i])\n",
    "    list_of_oob_mse.append(mse_oob)\n"
   ]
  },
  {
   "cell_type": "code",
   "execution_count": 25,
   "metadata": {},
   "outputs": [
    {
     "data": {
      "text/plain": [
       "24.20633168316832"
      ]
     },
     "execution_count": 25,
     "metadata": {},
     "output_type": "execute_result"
    }
   ],
   "source": [
    "## Mean Squared error of oob data \n",
    "np.mean(list_of_oob_mse)"
   ]
  },
  {
   "cell_type": "markdown",
   "metadata": {},
   "source": [
    "# Task 2 "
   ]
  },
  {
   "cell_type": "code",
   "execution_count": 39,
   "metadata": {},
   "outputs": [],
   "source": [
    "list_input_data=[]\n",
    "list_output_data = []\n",
    "list_input_oob_data =[]\n",
    "list_output_oob_data = []\n",
    "for i in range(0,35):\n",
    "    sample_index,oob_index= generate_sample(x)\n",
    "    list_input_data.append(x[sample_index])\n",
    "    list_output_data.append(y[sample_index]) \n",
    "    list_input_oob_data.append(x[oob_index])\n",
    "    list_output_oob_data.append(y[oob_index])"
   ]
  },
  {
   "cell_type": "code",
   "execution_count": 40,
   "metadata": {},
   "outputs": [],
   "source": [
    "all_selected_models = []\n",
    "for i in range(35):\n",
    "    model = DecisionTreeRegressor(max_depth=None)\n",
    "    model.fit(list_input_data[i],list_output_data[i])\n",
    "    all_selected_models.append(model)"
   ]
  },
  {
   "cell_type": "code",
   "execution_count": 41,
   "metadata": {},
   "outputs": [],
   "source": [
    "list_of_y_pred = []\n",
    "for i in range(35):\n",
    "    y_pred = all_selected_models[i].predict(list_input_data[i])\n",
    "    list_of_y_pred.append(y_pred)\n"
   ]
  },
  {
   "cell_type": "code",
   "execution_count": 43,
   "metadata": {},
   "outputs": [],
   "source": [
    "list_of_mse= []\n",
    "for i in range(35):\n",
    "    mse = mean_squared_error(list_output_data[i],list_of_y_pred[i])\n",
    "    list_of_mse.append(mse)"
   ]
  },
  {
   "cell_type": "code",
   "execution_count": 44,
   "metadata": {},
   "outputs": [
    {
     "name": "stdout",
     "output_type": "stream",
     "text": [
      "Mean of the mse : 6.574583264292565e-32\n"
     ]
    }
   ],
   "source": [
    "## Mean changed \n",
    "print(\"Mean of the mse : {}\".format(np.mean(list_of_mse)))"
   ]
  },
  {
   "cell_type": "code",
   "execution_count": 49,
   "metadata": {},
   "outputs": [],
   "source": [
    "list_of_oob_y_pred = []\n",
    "for i in range(35):\n",
    "    y_pred = all_selected_models[i].predict(list_input_oob_data[i])\n",
    "    list_of_oob_y_pred.append(y_pred)"
   ]
  },
  {
   "cell_type": "code",
   "execution_count": 50,
   "metadata": {},
   "outputs": [],
   "source": [
    "list_of_oob_mse= []\n",
    "for i in range(35):\n",
    "    mse = np.square(np.subtract(list_output_oob_data[i],list_of_oob_y_pred[i])).mean() \n",
    "    list_of_oob_mse.append(mse)"
   ]
  },
  {
   "cell_type": "code",
   "execution_count": 51,
   "metadata": {},
   "outputs": [
    {
     "data": {
      "text/plain": [
       "23.627012729844413"
      ]
     },
     "execution_count": 51,
     "metadata": {},
     "output_type": "execute_result"
    }
   ],
   "source": [
    "np.mean(list_of_oob_mse)"
   ]
  },
  {
   "cell_type": "code",
   "execution_count": 218,
   "metadata": {},
   "outputs": [],
   "source": [
    "## Here we dont have the standard deviation of mean_squared_error  population so we are going to use\n",
    "## second method in which we find the standard deviation of our sample"
   ]
  },
  {
   "cell_type": "code",
   "execution_count": 52,
   "metadata": {},
   "outputs": [],
   "source": [
    "list_of_mse = np.array(list_of_mse)\n",
    "list_of_oob_mse = np.array(list_of_oob_mse)\n",
    "mean_of_mse = list_of_mse.mean()\n",
    "mean_of_oob_mse = list_of_oob_mse.mean()\n",
    "standard_dev_mse = np.std(list_of_mse)\n",
    "standard_dev_oob_mse = np.std(list_of_oob_mse)"
   ]
  },
  {
   "cell_type": "code",
   "execution_count": 53,
   "metadata": {},
   "outputs": [
    {
     "data": {
      "text/plain": [
       "5.938947806171344"
      ]
     },
     "execution_count": 53,
     "metadata": {},
     "output_type": "execute_result"
    }
   ],
   "source": [
    "standard_dev_oob_mse"
   ]
  },
  {
   "cell_type": "code",
   "execution_count": 54,
   "metadata": {},
   "outputs": [],
   "source": [
    "def find_confidence_limit(mean,std,samp_size):\n",
    "    upper_limit = mean-1.96*std/math.sqrt(samp_size)\n",
    "    lower_limit = mean+1.96*std/math.sqrt(samp_size)\n",
    "    return upper_limit,lower_limit"
   ]
  },
  {
   "cell_type": "code",
   "execution_count": 55,
   "metadata": {},
   "outputs": [],
   "source": [
    "u_mse,l_mse = find_confidence_limit(mean_of_mse,standard_dev_mse,35)"
   ]
  },
  {
   "cell_type": "code",
   "execution_count": 56,
   "metadata": {},
   "outputs": [
    {
     "name": "stdout",
     "output_type": "stream",
     "text": [
      "Upper Confidence limit is 4.876399638797741e-32 \n",
      "Lower confidence limit is 8.272766889787388e-32\n"
     ]
    }
   ],
   "source": [
    "print(\"Upper Confidence limit is {} \\nLower confidence limit is {}\".format(u_mse,l_mse))"
   ]
  },
  {
   "cell_type": "code",
   "execution_count": 57,
   "metadata": {},
   "outputs": [],
   "source": [
    "u_oob_mse,l_oob_mse = find_confidence_limit(mean_of_oob_mse,standard_dev_oob_mse,35)"
   ]
  },
  {
   "cell_type": "code",
   "execution_count": 58,
   "metadata": {},
   "outputs": [
    {
     "name": "stdout",
     "output_type": "stream",
     "text": [
      "Upper Confidence limit is 21.65943654310186 \n",
      "Lower confidence limit is 25.594588916586964\n"
     ]
    }
   ],
   "source": [
    "print(\"Upper Confidence limit is {} \\nLower confidence limit is {}\".format(u_oob_mse,l_oob_mse))"
   ]
  },
  {
   "cell_type": "markdown",
   "metadata": {},
   "source": [
    "# Task 3"
   ]
  },
  {
   "cell_type": "code",
   "execution_count": 59,
   "metadata": {},
   "outputs": [],
   "source": [
    "xq= [0.18,20.0,5.00,0.0,0.421,5.60,72.2,7.95,7.0,30.0,19.1,372.13,18.60]\n",
    "xq = np.array(xq)"
   ]
  },
  {
   "cell_type": "code",
   "execution_count": 64,
   "metadata": {},
   "outputs": [],
   "source": [
    "y_pred_of_query= []\n",
    "for i in range(len(all_selected_models)):\n",
    "    ypred = all_selected_models[i].predict((xq).reshape(1,-1))\n",
    "    y_pred_of_query.append(ypred)"
   ]
  },
  {
   "cell_type": "code",
   "execution_count": 65,
   "metadata": {},
   "outputs": [
    {
     "name": "stdout",
     "output_type": "stream",
     "text": [
      "Median of the query point is 18.5\n"
     ]
    }
   ],
   "source": [
    "Y_median = np.median(y_pred_of_query)\n",
    "print(\"Median of the query point is {}\".format(Y_median))"
   ]
  }
 ],
 "metadata": {
  "colab": {
   "collapsed_sections": [],
   "name": "Bootstrap_Random_Forest_instructions.ipynb",
   "provenance": []
  },
  "kernelspec": {
   "display_name": "Python 3",
   "language": "python",
   "name": "python3"
  },
  "language_info": {
   "codemirror_mode": {
    "name": "ipython",
    "version": 3
   },
   "file_extension": ".py",
   "mimetype": "text/x-python",
   "name": "python",
   "nbconvert_exporter": "python",
   "pygments_lexer": "ipython3",
   "version": "3.7.7"
  }
 },
 "nbformat": 4,
 "nbformat_minor": 1
}
